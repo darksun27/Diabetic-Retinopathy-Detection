{
 "cells": [
  {
   "cell_type": "code",
   "execution_count": 1,
   "metadata": {},
   "outputs": [
    {
     "name": "stderr",
     "output_type": "stream",
     "text": "Using TensorFlow backend.\n"
    }
   ],
   "source": [
    "from flask import Flask, request, send_file\n",
    "import base64\n",
    "import numpy as np\n",
    "import tensorflow\n",
    "import keras\n",
    "from keras.preprocessing import image\n",
    "from keras.models import load_model\n",
    "from flask_ngrok import run_with_ngrok\n",
    "from PIL import ImageTk, Image\n",
    "import fpdf\n",
    "from datetime import date\n",
    "import tensorflow as tf"
   ]
  },
  {
   "cell_type": "code",
   "execution_count": 3,
   "metadata": {},
   "outputs": [
    {
     "name": "stdout",
     "output_type": "stream",
     "text": "1.15.0\n"
    }
   ],
   "source": [
    "print(tf.__version__)"
   ]
  },
  {
   "source": [
    "def fetch_results(image_str,patient_name):\n",
    "  with tf.name_scope(\"predict\"):\n",
    "    loaded_graph = tf.Graph()\n",
    "    with tf.Session(graph=loaded_graph) as sess:\n",
    "      model = tensorflow.keras.models.load_model(\"./minor-server/content/keras_model.h5\")\n",
    "      with open(\"./minor-server/content/{}.jpeg\".format(patient_name) , \"wb\") as image_file_recv:\n",
    "        image_file_recv.write(base64.b64decode(image_str.encode('utf-8')))\n",
    "      testing_image = image.load_img(\"./minor-server/content/{}.jpeg\".format(patient_name),target_size = (224, 224))\n",
    "      testing_image = image.img_to_array(testing_image)\n",
    "      testing_image = np.expand_dims(testing_image, axis = 0)\n",
    "      pdf = fpdf.FPDF(format ='letter')\n",
    "      pdf.add_page()\n",
    "      pdf.set_fill_color(230,230,0)\n",
    "      pdf.image(\"./minor-server/content/Banner.png\",0,0,215,50,'PNG')\n",
    "      pdf.set_font(\"Arial\", size = 12)\n",
    "      pdf.ln(50)\n",
    "      pdf.set_font(\"Arial\",\"B\", size = 12)\n",
    "      pdf.multi_cell(0, 10, txt=\"{}\".format(date.today()), border=0, align=\"R\",fill=False)\n",
    "      pdf.multi_cell(0, 10, txt=\"{}\".format(patient_name.upper()), border=0, align=\"L\",fill=False)\n",
    "      pdf.set_font(\"Arial\", size = 12)\n",
    "      pdf.ln(90)\n",
    "      pdf.set_font(\"Arial\",\"B\", size = 9)\n",
    "      pdf.image(\"./minor-server/content/{}.jpeg\".format(patient_name),75,90,75,75,'JPEG')\n",
    "      pdf.multi_cell(200, 3, txt=\"Patient's Retina Picture\", border=0, align=\"C\",fill=False)\n",
    "      pdf.ln(10)\n",
    "\n",
    "      pred = model.predict(testing_image)\n",
    "\n",
    "      is_cancer = False\n",
    "      prob = 0.0\n",
    "      pdf.set_font(\"Arial\",\"B\", size = 12)\n",
    "      pdf.multi_cell(200, 10, txt=\"Findings in diagnosis:\", border=0, align=\"L\",fill=False)\n",
    "      if pred[0][0] > pred[0][1]:\n",
    "        is_cancer = True\n",
    "        prob = pred[0][0]*100\n",
    "        pdf.set_font(\"Arial\", size = 12)\n",
    "        pdf.multi_cell(200, 10, txt=\"Cancer cells were found during the diagnosis. This findings lead to the conclusion that diabetic retinopathy disease is present.\", border=0, align=\"L\",fill=True)\n",
    "      else:\n",
    "        prob = pred[0][1]*100\n",
    "        pdf.multi_cell(200, 10, txt=\"No presence of Cancerous Cells was found. If the problem still persists you please consult a doctor.\", border=0, align=\"L\",fill=True)\n",
    "\n",
    "      pdf.ln(20)\n",
    "      pdf.set_font(\"Arial\",\"B\", size = 12)\n",
    "      pdf.multi_cell(0, 10, txt=\"****This is a computer generated report. This report is only to guide for further investigation, no action should be taken based on this report.****\", border=0, align=\"C\",fill=False)\n",
    "      pdf.output(\"./minor-server/content/{}.pdf\".format(patient_name))\n",
    "\n",
    "      return {\"is_cancer\" : is_cancer, \"prob\" : prob}"
   ],
   "cell_type": "code",
   "outputs": [],
   "metadata": {},
   "execution_count": 9
  },
  {
   "cell_type": "code",
   "execution_count": 5,
   "metadata": {},
   "outputs": [],
   "source": [
    "app = Flask(__name__)\n",
    "\n",
    "# run_with_ngrok(app)\n",
    "\n",
    "@app.route(\"/detect\" , methods = ['POST'])\n",
    "def detect():\n",
    "  # try:\n",
    "  if request.method == 'POST':\n",
    "    return fetch_results(request.form.get('image_str'),request.form.get('patient_name'))\n",
    "  # except:\n",
    "  #   return \"ERROR OCCURED\", 500\n",
    "\n",
    "@app.route(\"/getReport\", methods = ['GET'])\n",
    "def getReport():\n",
    "  try:\n",
    "    if request.method == 'GET':\n",
    "      return send_file(\"./content/{}.pdf\".format(request.args.get('patient_name')), attachment_filename = \"{}_DR_Report.pdf\".format(request.args.get('patient_name')))\n",
    "  except:\n",
    "    return \"ERROR\", 500"
   ]
  },
  {
   "cell_type": "code",
   "metadata": {},
   "outputs": [],
   "source": [
    "app.run()"
   ]
  },
  {
   "cell_type": "code",
   "execution_count": 6,
   "metadata": {},
   "outputs": [],
   "source": [
    "with open(\"./minor-server/content/test_data/sym/1032_left.jpeg\", \"rb\") as image_file:\n",
    "  encoded_string = base64.b64encode(image_file.read()).decode('utf-8')\n",
    "#   print(fetch_results(encoded_string,\"lol\"))"
   ]
  },
  {
   "cell_type": "code",
   "execution_count": 7,
   "metadata": {},
   "outputs": [
    {
     "name": "stdout",
     "output_type": "stream",
     "text": "/home/darksun27/temp/Minor\n"
    }
   ],
   "source": [
    "!pwd\n",
    "testing_image = image.load_img(\"./minor-server/content/test_data/sym/1032_left.jpeg\",target_size = (224, 224))\n",
    "testing_image = image.img_to_array(testing_image)\n",
    "testing_image = np.expand_dims(testing_image, axis = 0)\n",
    "\n",
    "# print(model.predict(testing_image))"
   ]
  },
  {
   "source": [
    "print(fetch_results(encoded_string,\"Siddharth\"))"
   ],
   "cell_type": "code",
   "outputs": [
    {
     "output_type": "stream",
     "name": "stdout",
     "text": "WARNING:tensorflow:No training configuration found in save file: the model was *not* compiled. Compile it manually.\n{'is_cancer': True, 'prob': 85.18055081367493}\n"
    }
   ],
   "metadata": {},
   "execution_count": 10
  },
  {
   "cell_type": "code",
   "execution_count": 2,
   "metadata": {},
   "outputs": [
    {
     "name": "stdout",
     "output_type": "stream",
     "text": "WARNING:tensorflow:From /home/darksun27/anaconda3/lib/python3.7/site-packages/tensorflow_core/python/ops/init_ops.py:97: calling VarianceScaling.__init__ (from tensorflow.python.ops.init_ops) with dtype is deprecated and will be removed in a future version.\nInstructions for updating:\nCall initializer instance with the dtype argument instead of passing it to the constructor\nWARNING:tensorflow:From /home/darksun27/anaconda3/lib/python3.7/site-packages/tensorflow_core/python/ops/init_ops.py:97: calling Zeros.__init__ (from tensorflow.python.ops.init_ops) with dtype is deprecated and will be removed in a future version.\nInstructions for updating:\nCall initializer instance with the dtype argument instead of passing it to the constructor\nWARNING:tensorflow:From /home/darksun27/anaconda3/lib/python3.7/site-packages/tensorflow_core/python/ops/init_ops.py:97: calling Ones.__init__ (from tensorflow.python.ops.init_ops) with dtype is deprecated and will be removed in a future version.\nInstructions for updating:\nCall initializer instance with the dtype argument instead of passing it to the constructor\nWARNING:tensorflow:From /home/darksun27/anaconda3/lib/python3.7/site-packages/tensorflow_core/python/ops/resource_variable_ops.py:1630: calling BaseResourceVariable.__init__ (from tensorflow.python.ops.resource_variable_ops) with constraint is deprecated and will be removed in a future version.\nInstructions for updating:\nIf using Keras pass *_constraint arguments to layers.\nWARNING:tensorflow:From /home/darksun27/anaconda3/lib/python3.7/site-packages/tensorflow_core/python/util/deprecation.py:507: calling VarianceScaling.__init__ (from tensorflow.python.ops.init_ops) with distribution=normal is deprecated and will be removed in a future version.\nInstructions for updating:\n`normal` is a deprecated alias for `truncated_normal`\nWARNING:tensorflow:No training configuration found in save file: the model was *not* compiled. Compile it manually.\n"
    }
   ],
   "source": [
    "model = tensorflow.keras.models.load_model(\"./minor-server/content/keras_model.h5\")"
   ]
  },
  {
   "cell_type": "code",
   "execution_count": null,
   "metadata": {},
   "outputs": [],
   "source": []
  }
 ],
 "metadata": {
  "kernelspec": {
   "display_name": "Python 3",
   "language": "python",
   "name": "python3"
  },
  "language_info": {
   "codemirror_mode": {
    "name": "ipython",
    "version": 3
   },
   "file_extension": ".py",
   "mimetype": "text/x-python",
   "name": "python",
   "nbconvert_exporter": "python",
   "pygments_lexer": "ipython3",
   "version": "3.7.4"
  }
 },
 "nbformat": 4,
 "nbformat_minor": 2
}